{
 "cells": [
  {
   "cell_type": "markdown",
   "id": "0",
   "metadata": {},
   "source": [
    "# Schematic\n",
    "\n",
    "A schematic is a graph representation of your circuit.\n",
    "\n",
    "For complex circuits, a schematic allows you to create symbols and hierarchy levels to represent your circuit.\n",
    "\n",
    "Having a schematic allows you to also ensure that your layout matches you schematic (design intent).\n",
    "\n",
    "There are many schematic capture tools out there:\n",
    "\n",
    "- Qucs-s: for RF.\n",
    "- Xschem: for analog circuits.\n",
    "- Lumerical interconnect: for photonic circuits.\n",
    "\n",
    "These tools allow you to both create schematics with your mouse or by code.\n",
    "\n",
    "gdsfactory also allows you to create complex Schematics directly from python with a very simple interface."
   ]
  },
  {
   "cell_type": "code",
   "execution_count": null,
   "id": "1",
   "metadata": {},
   "outputs": [],
   "source": [
    "import gdsfactory as gf\n",
    "import gdsfactory.schematic as gt\n",
    "import yaml"
   ]
  },
  {
   "cell_type": "code",
   "execution_count": null,
   "id": "2",
   "metadata": {},
   "outputs": [],
   "source": [
    "c = gf.c.mzi()\n",
    "c.plot_netlist_graphviz(interactive=False)"
   ]
  },
  {
   "cell_type": "code",
   "execution_count": null,
   "id": "3",
   "metadata": {},
   "outputs": [],
   "source": [
    "c.plot_netlist()"
   ]
  },
  {
   "cell_type": "markdown",
   "id": "4",
   "metadata": {},
   "source": [
    "Lets create a MZI lattice of 3 elements."
   ]
  },
  {
   "cell_type": "code",
   "execution_count": null,
   "id": "5",
   "metadata": {},
   "outputs": [],
   "source": [
    "s = gt.Schematic()\n",
    "s.add_instance(\"mzi1\", gt.Instance(component=gf.c.mzi(delta_length=10)))\n",
    "s.add_instance(\"mzi2\", gt.Instance(component=gf.c.mzi(delta_length=100)))\n",
    "s.add_instance(\"mzi3\", gt.Instance(component=gf.c.mzi(delta_length=200)))\n",
    "s.add_placement(\"mzi1\", gt.Placement(x=000, y=0))\n",
    "s.add_placement(\"mzi2\", gt.Placement(x=100, y=100))\n",
    "s.add_placement(\"mzi3\", gt.Placement(x=200, y=0))\n",
    "s.add_net(gt.Net(p1=\"mzi1,o2\", p2=\"mzi2,o1\"))\n",
    "s.add_net(gt.Net(p1=\"mzi2,o2\", p2=\"mzi3,o1\"))\n",
    "g = s.plot_graphviz()"
   ]
  },
  {
   "cell_type": "markdown",
   "id": "6",
   "metadata": {},
   "source": [
    "You can also create a splitter tree."
   ]
  },
  {
   "cell_type": "code",
   "execution_count": null,
   "id": "7",
   "metadata": {},
   "outputs": [],
   "source": [
    "s = gt.Schematic()\n",
    "s.add_instance(\"s11\", gt.Instance(component=gf.c.mmi1x2()))\n",
    "s.add_instance(\"s21\", gt.Instance(component=gf.c.mmi1x2()))\n",
    "s.add_instance(\"s22\", gt.Instance(component=gf.c.mmi1x2()))\n",
    "s.add_placement(\"s11\", gt.Placement(x=000, y=0))\n",
    "s.add_placement(\"s21\", gt.Placement(x=100, y=+50))\n",
    "s.add_placement(\"s22\", gt.Placement(x=100, y=-50))\n",
    "s.add_net(gt.Net(p1=\"s11,o2\", p2=\"s21,o1\"))\n",
    "s.add_net(gt.Net(p1=\"s11,o3\", p2=\"s22,o1\"))\n",
    "g = s.plot_graphviz()"
   ]
  },
  {
   "cell_type": "markdown",
   "id": "8",
   "metadata": {},
   "source": [
    "The nice thing is that you can abstract it to have as many levels as you need."
   ]
  },
  {
   "cell_type": "code",
   "execution_count": null,
   "id": "9",
   "metadata": {},
   "outputs": [],
   "source": [
    "splitter = gf.components.mmi1x2()\n",
    "n = 3\n",
    "dx = 100\n",
    "dy = 100\n",
    "s = gt.Schematic()\n",
    "\n",
    "for col in range(n):\n",
    "    rows = 2**col\n",
    "    for row in range(rows):\n",
    "        s.add_instance(f\"s{col}{row}\", gt.Instance(component=splitter))\n",
    "        s.add_placement(\n",
    "            f\"s{col}{row}\", gt.Placement(x=col * dx, y=(row - rows / 2) * dy)\n",
    "        )\n",
    "        if col < n - 1:\n",
    "            s.add_net(gt.Net(p1=f\"s{col}{row},o2\", p2=f\"s{col+1}{2*row},o1\"))\n",
    "            s.add_net(gt.Net(p1=f\"s{col}{row},o3\", p2=f\"s{col+1}{2*row+1},o1\"))\n",
    "\n",
    "\n",
    "g = s.plot_graphviz()"
   ]
  },
  {
   "cell_type": "code",
   "execution_count": null,
   "id": "10",
   "metadata": {},
   "outputs": [],
   "source": [
    "splitter = gf.components.mmi1x2()\n",
    "n = 5\n",
    "dx = 100\n",
    "dy = 100\n",
    "s = gt.Schematic()\n",
    "\n",
    "for col in range(n):\n",
    "    rows = 2**col\n",
    "    for row in range(rows):\n",
    "        s.add_instance(f\"s{col}{row}\", gt.Instance(component=splitter))\n",
    "        s.add_placement(\n",
    "            f\"s{col}{row}\", gt.Placement(x=col * dx, y=(row - rows / 2) * dy)\n",
    "        )\n",
    "        if col < n - 1:\n",
    "            s.add_net(gt.Net(p1=f\"s{col}{row},o2\", p2=f\"s{col+1}{2*row},o1\"))\n",
    "            s.add_net(gt.Net(p1=f\"s{col}{row},o3\", p2=f\"s{col+1}{2*row+1},o1\"))\n",
    "\n",
    "\n",
    "g = s.plot_graphviz()"
   ]
  },
  {
   "cell_type": "code",
   "execution_count": null,
   "id": "11",
   "metadata": {},
   "outputs": [],
   "source": [
    "dict(s.netlist)"
   ]
  },
  {
   "cell_type": "code",
   "execution_count": null,
   "id": "12",
   "metadata": {},
   "outputs": [],
   "source": [
    "yaml_component = yaml.dump(s.netlist.model_dump(exclude_none=True))\n",
    "print(yaml_component)"
   ]
  },
  {
   "cell_type": "code",
   "execution_count": null,
   "id": "13",
   "metadata": {},
   "outputs": [],
   "source": [
    "yaml.dump(s.netlist.model_dump(exclude_none=True), open(\"schematic.yaml\", \"w\"))"
   ]
  },
  {
   "cell_type": "markdown",
   "id": "14",
   "metadata": {},
   "source": [
    "## Python routing"
   ]
  },
  {
   "cell_type": "code",
   "execution_count": null,
   "id": "15",
   "metadata": {},
   "outputs": [],
   "source": [
    "n = 2**3\n",
    "splitter = gf.components.splitter_tree(noutputs=n, spacing=(50, 50))\n",
    "dbr_array = gf.components.array(\n",
    "    component=gf.c.dbr, rows=n, columns=1, column_pitch=0, row_pitch=3, centered=True\n",
    ")\n",
    "s = gt.Schematic()\n",
    "s.add_instance(\"s\", gt.Instance(component=splitter))\n",
    "s.add_instance(\"dbr\", gt.Instance(component=dbr_array))\n",
    "s.add_placement(\"s\", gt.Placement(x=0, y=0))\n",
    "s.add_placement(\"dbr\", gt.Placement(x=300, y=0))\n",
    "\n",
    "for i in range(n):\n",
    "    s.add_net(\n",
    "        gt.Net(\n",
    "            p1=f\"s,o2_2_{i+1}\",\n",
    "            p2=f\"dbr,o1_{i+1}_1\",\n",
    "            name=\"splitter_to_dbr\",\n",
    "            settings=dict(radius=5, sort_ports=True, cross_section=\"strip\"),\n",
    "        )\n",
    "    )\n",
    "\n",
    "g = s.plot_graphviz()"
   ]
  },
  {
   "cell_type": "code",
   "execution_count": null,
   "id": "16",
   "metadata": {},
   "outputs": [],
   "source": [
    "dbr_array.pprint_ports()"
   ]
  },
  {
   "cell_type": "code",
   "execution_count": null,
   "id": "17",
   "metadata": {},
   "outputs": [],
   "source": [
    "splitter.pprint_ports()"
   ]
  },
  {
   "cell_type": "code",
   "execution_count": null,
   "id": "18",
   "metadata": {},
   "outputs": [],
   "source": [
    "yaml.dump(s.netlist.model_dump(exclude_none=True), open(\"schematic.yaml\", \"w\"))\n",
    "yaml_component = yaml.dump(s.netlist.model_dump(exclude_none=True))\n",
    "print(yaml_component)"
   ]
  },
  {
   "cell_type": "code",
   "execution_count": null,
   "id": "19",
   "metadata": {},
   "outputs": [],
   "source": [
    "from gdsfactory.serialization import convert_tuples_to_lists\n",
    "\n",
    "conf = s.netlist.model_dump(exclude_none=True)\n",
    "conf = convert_tuples_to_lists(conf)\n",
    "yaml_component = yaml.dump(conf)\n",
    "print(yaml_component)"
   ]
  },
  {
   "cell_type": "code",
   "execution_count": null,
   "id": "20",
   "metadata": {},
   "outputs": [],
   "source": [
    "c = gf.read.from_yaml(yaml_component)\n",
    "c"
   ]
  }
 ],
 "metadata": {
  "jupytext": {
   "cell_metadata_filter": "-all",
   "custom_cell_magics": "kql",
   "encoding": "# -*- coding: utf-8 -*-"
  },
  "kernelspec": {
   "display_name": "base",
   "language": "python",
   "name": "python3"
  },
  "language_info": {
   "codemirror_mode": {
    "name": "ipython",
    "version": 3
   },
   "file_extension": ".py",
   "mimetype": "text/x-python",
   "name": "python",
   "nbconvert_exporter": "python",
   "pygments_lexer": "ipython3",
   "version": "3.11.8"
  }
 },
 "nbformat": 4,
 "nbformat_minor": 5
}
