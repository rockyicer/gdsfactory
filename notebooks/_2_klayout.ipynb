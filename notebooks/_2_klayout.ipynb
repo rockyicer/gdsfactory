{
 "cells": [
  {
   "cell_type": "markdown",
   "id": "0",
   "metadata": {},
   "source": [
    "# KLayout integration\n",
    "\n",
    "[Klayout](https://www.klayout.de/build.html) is an open source layout viewer and editor. In gdsfactory code driven flow you define your components, circuits and reticles in python or YAML code.\n",
    "\n",
    "For rapid iteration, gdsfactory comes with a Klayout macro `klive` that runs inside klayout, so that when you run `component.show()` in python, it displays your GDS in Klayout.\n",
    "\n",
    "![workflow](https://i.imgur.com/yquTcM7.png)"
   ]
  },
  {
   "cell_type": "markdown",
   "id": "1",
   "metadata": {},
   "source": [
    "You can install the GDSFactory klayout plugin to be able to see `Component.show()` to live update your GDS without having do File -> Open -> Select GDS\n",
    "\n",
    "This will add the following functionalities:\n",
    "\n",
    "- Show ports\n",
    "- Show Pcell metadata\n",
    "- Add generic_pdk layermap\n"
   ]
  },
  {
   "cell_type": "markdown",
   "id": "2",
   "metadata": {},
   "source": [
    "![image.png](https://i.imgur.com/CmCe9Vp.png)"
   ]
  }
 ],
 "metadata": {
  "jupytext": {
   "cell_metadata_filter": "-all",
   "main_language": "python",
   "notebook_metadata_filter": "-all"
  },
  "language_info": {
   "name": "python"
  }
 },
 "nbformat": 4,
 "nbformat_minor": 5
}
